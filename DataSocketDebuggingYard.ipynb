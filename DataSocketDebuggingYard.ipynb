{
 "cells": [
  {
   "cell_type": "code",
   "execution_count": 1,
   "metadata": {},
   "outputs": [],
   "source": [
    "import numpy as np\n",
    "import os\n",
    "import sys\n",
    "import time\n",
    "from tqdm import tqdm\n",
    "# 20 sec"
   ]
  },
  {
   "cell_type": "code",
   "execution_count": 2,
   "metadata": {},
   "outputs": [
    {
     "data": {
      "text/plain": [
       "'/lustre/hpc/icecube/cyan/factory/IceCubeTransformer'"
      ]
     },
     "execution_count": 2,
     "metadata": {},
     "output_type": "execute_result"
    }
   ],
   "source": [
    "os.getcwd()"
   ]
  },
  {
   "cell_type": "code",
   "execution_count": 3,
   "metadata": {},
   "outputs": [],
   "source": [
    "sys.path.append(\"DataSocket/\")\n",
    "\n",
    "from DataSocket.DatasetMonoFlavourShard import DatasetMonoFlavourShard\n",
    "from DataSocket.DatasetMultiFlavourShard import DatasetMultiFlavourShard\n",
    "from DataSocket.DatasetMultiFlavourPart import DatasetMultiFlavourPart\n",
    "from DataSocket.EnergyRange import EnergyRange\n",
    "from DataSocket.MaxNDOMFinder import MaxNDOMFinder\n",
    "from DataSocket.PMTfiedDataModule import PMTfiedDataModule"
   ]
  },
  {
   "cell_type": "code",
   "execution_count": 4,
   "metadata": {},
   "outputs": [],
   "source": [
    "root_dir = \"/lustre/hpc/project/icecube/HE_Nu_Aske_Oct2024/PMTfied/Snowstorm/\"\n",
    "NuE_PeV_root = root_dir + \"22015/\"\n",
    "NuMu_PeV_root = root_dir + \"22012/\"\n",
    "NuTau_PeV_root = root_dir + \"22018/\"\n",
    "\n",
    "truth_NuE_PeV_1 = NuE_PeV_root + \"truth_1.parquet\"\n",
    "truth_NuMu_PeV_1 = NuMu_PeV_root + \"truth_1.parquet\"\n",
    "truth_NuTau_PeV_1 = NuTau_PeV_root + \"truth_1.parquet\"\n",
    "\n",
    "PMTfied_NuE_PeV_1 = NuE_PeV_root + \"1/\"\n",
    "PMTfied_NuE_PeV_1_1 = PMTfied_NuE_PeV_1 + \"PMTfied_1.parquet\"\n",
    "\n",
    "PMTfied_NuMu_PeV_1 = NuMu_PeV_root + \"1/\"\n",
    "PMTfied_NuMu_PeV_1_1 = PMTfied_NuMu_PeV_1 + \"PMTfied_1.parquet\"\n",
    "\n",
    "PMTfied_NuTau_PeV_1 = NuTau_PeV_root + \"1/\"\n",
    "PMTfied_NuTau_PeV_1_1 = PMTfied_NuTau_PeV_1 + \"PMTfied_1.parquet\""
   ]
  },
  {
   "cell_type": "markdown",
   "metadata": {},
   "source": [
    "# 1. MonoFlavourShard"
   ]
  },
  {
   "cell_type": "code",
   "execution_count": 5,
   "metadata": {},
   "outputs": [
    {
     "name": "stdout",
     "output_type": "stream",
     "text": [
      "------------- Statistics (subdirectory 22015, part 1, shard 1) -------------\n",
      "Total 2000 events from shard 1\n"
     ]
    },
    {
     "name": "stderr",
     "output_type": "stream",
     "text": [
      "/groups/icecube/cyan/.local/lib/python3.9/site-packages/pandas/core/arraylike.py:399: RuntimeWarning: invalid value encountered in log10\n",
      "  result = getattr(ufunc, method)(*inputs, **kwargs)\n"
     ]
    }
   ],
   "source": [
    "ds_PeV_1_1_NuE = DatasetMonoFlavourShard(\n",
    "    root_dir=root_dir,\n",
    "    subdirectory_no=22015,\n",
    "    part=1,\n",
    "    shard=1,\n",
    "    max_n_doms=3000,\n",
    "    verbosity=1,\n",
    "    )"
   ]
  },
  {
   "cell_type": "code",
   "execution_count": 6,
   "metadata": {},
   "outputs": [
    {
     "data": {
      "text/plain": [
       "'\\n<<28.01.2025, FEND05>>\\nCPU times: user 30.3 s, sys: 253 ms, total: 30.6 s\\nWall time: 2.3 s\\n'"
      ]
     },
     "execution_count": 6,
     "metadata": {},
     "output_type": "execute_result"
    }
   ],
   "source": [
    "# %%time\n",
    "# for _ in ds_PeV_1_1_NuE:\n",
    "#     pass\n",
    "\"\"\"\n",
    "<<28.01.2025, FEND05>>\n",
    "CPU times: user 30.3 s, sys: 253 ms, total: 30.6 s\n",
    "Wall time: 2.3 s\n",
    "\"\"\""
   ]
  },
  {
   "cell_type": "code",
   "execution_count": 7,
   "metadata": {},
   "outputs": [
    {
     "data": {
      "text/plain": [
       "2000"
      ]
     },
     "execution_count": 7,
     "metadata": {},
     "output_type": "execute_result"
    }
   ],
   "source": [
    "len(ds_PeV_1_1_NuE)"
   ]
  },
  {
   "cell_type": "code",
   "execution_count": 8,
   "metadata": {},
   "outputs": [
    {
     "data": {
      "text/plain": [
       "833.3333333333334"
      ]
     },
     "execution_count": 8,
     "metadata": {},
     "output_type": "execute_result"
    }
   ],
   "source": [
    "2000/2.4"
   ]
  },
  {
   "cell_type": "markdown",
   "metadata": {},
   "source": [
    "# 2. MultiFlavourShard"
   ]
  },
  {
   "cell_type": "code",
   "execution_count": 9,
   "metadata": {},
   "outputs": [
    {
     "name": "stdout",
     "output_type": "stream",
     "text": [
      " maxNdomFinder_PeV_1_1: 2421\n"
     ]
    }
   ],
   "source": [
    "maxNDOMFinder_PeV_1_1 = MaxNDOMFinder(\n",
    "    root_dir=root_dir,\n",
    "    energy_band=EnergyRange.ER_1_PEV_100_PEV,\n",
    "    part=1,\n",
    "    shard=1,\n",
    ")\n",
    "print(f\" maxNdomFinder_PeV_1_1: {maxNDOMFinder_PeV_1_1()}\")"
   ]
  },
  {
   "cell_type": "code",
   "execution_count": 10,
   "metadata": {},
   "outputs": [
    {
     "name": "stdout",
     "output_type": "stream",
     "text": [
      "------------- Multi-Flavour Shard (Energy Band: ER_1_PEV_100_PEV, Part: 1, Shard: 1) -------------\n"
     ]
    }
   ],
   "source": [
    "ds_PeV_1_1 = DatasetMultiFlavourShard(\n",
    "    root_dir=root_dir,\n",
    "    energy_band=EnergyRange.ER_1_PEV_100_PEV,\n",
    "    part=1,\n",
    "    shard=1,\n",
    "    max_n_doms=maxNDOMFinder_PeV_1_1(),\n",
    "    verbosity=1,\n",
    "    )"
   ]
  },
  {
   "cell_type": "code",
   "execution_count": null,
   "metadata": {},
   "outputs": [
    {
     "name": "stdout",
     "output_type": "stream",
     "text": [
      "CPU times: user 54 s, sys: 13.7 ms, total: 54 s\n",
      "Wall time: 1.74 s\n"
     ]
    },
    {
     "data": {
      "text/plain": [
       "'\\n<<28.01.2025, FEND05>>\\nCPU times: user 1min 28s, sys: 1.11 s, total: 1min 29s\\nWall time: 7.05 s\\n'"
      ]
     },
     "execution_count": 20,
     "metadata": {},
     "output_type": "execute_result"
    }
   ],
   "source": [
    "%%time\n",
    "for _ in ds_PeV_1_1:\n",
    "    pass\n",
    "\"\"\"\n",
    "<<28.01.2025, FEND05>>\n",
    "CPU times: user 1min 28s, sys: 1.11 s, total: 1min 29s\n",
    "Wall time: 7.05 s\n",
    "\"\"\"\n",
    "\n",
    "\"\"\"<<30.01.2025, hep04>>\n",
    "CPU times: user 54 s, sys: 13.7 ms, total: 54 s\n",
    "Wall time: 1.74 s\n",
    "\"\"\""
   ]
  },
  {
   "cell_type": "code",
   "execution_count": 12,
   "metadata": {},
   "outputs": [
    {
     "data": {
      "text/plain": [
       "6000"
      ]
     },
     "execution_count": 12,
     "metadata": {},
     "output_type": "execute_result"
    }
   ],
   "source": [
    "len(ds_PeV_1_1)"
   ]
  },
  {
   "cell_type": "code",
   "execution_count": 23,
   "metadata": {},
   "outputs": [
    {
     "name": "stdout",
     "output_type": "stream",
     "text": [
      "3448.2758620689656 851.0638297872341\n"
     ]
    }
   ],
   "source": [
    "print(6000/1.74, 6000/7.05)"
   ]
  },
  {
   "cell_type": "markdown",
   "metadata": {},
   "source": [
    "# 3. MultiFlavourPart"
   ]
  },
  {
   "cell_type": "code",
   "execution_count": 14,
   "metadata": {},
   "outputs": [
    {
     "name": "stdout",
     "output_type": "stream",
     "text": [
      " maxNdomFinder_PeV_1: 2674\n"
     ]
    }
   ],
   "source": [
    "maxNDOMFinder_PeV_1 = MaxNDOMFinder(\n",
    "    root_dir=root_dir,\n",
    "    energy_band=EnergyRange.ER_1_PEV_100_PEV,\n",
    "    part=1,\n",
    ")\n",
    "print(f\" maxNdomFinder_PeV_1: {maxNDOMFinder_PeV_1()}\")"
   ]
  },
  {
   "cell_type": "code",
   "execution_count": 15,
   "metadata": {},
   "outputs": [
    {
     "name": "stdout",
     "output_type": "stream",
     "text": [
      "------------- Multi-Flavour Part (Energy Band: ER_1_PEV_100_PEV, Part: 1) -------------\n",
      "------------- Multi-Flavour Shard (Energy Band: ER_1_PEV_100_PEV, Part: 1, Shard: 1) -------------\n",
      "------------- Multi-Flavour Shard (Energy Band: ER_1_PEV_100_PEV, Part: 1, Shard: 2) -------------\n",
      "------------- Multi-Flavour Shard (Energy Band: ER_1_PEV_100_PEV, Part: 1, Shard: 3) -------------\n",
      "------------- Multi-Flavour Shard (Energy Band: ER_1_PEV_100_PEV, Part: 1, Shard: 4) -------------\n",
      "------------- Multi-Flavour Shard (Energy Band: ER_1_PEV_100_PEV, Part: 1, Shard: 5) -------------\n",
      "------------- Multi-Flavour Shard (Energy Band: ER_1_PEV_100_PEV, Part: 1, Shard: 6) -------------\n",
      "------------- Multi-Flavour Shard (Energy Band: ER_1_PEV_100_PEV, Part: 1, Shard: 7) -------------\n",
      "------------- Multi-Flavour Shard (Energy Band: ER_1_PEV_100_PEV, Part: 1, Shard: 8) -------------\n",
      "------------- Multi-Flavour Shard (Energy Band: ER_1_PEV_100_PEV, Part: 1, Shard: 9) -------------\n",
      "------------- Multi-Flavour Shard (Energy Band: ER_1_PEV_100_PEV, Part: 1, Shard: 10) -------------\n",
      "------------- Multi-Flavour Shard (Energy Band: ER_1_PEV_100_PEV, Part: 1, Shard: 11) -------------\n",
      "------------- Multi-Flavour Shard (Energy Band: ER_1_PEV_100_PEV, Part: 1, Shard: 12) -------------\n",
      "------------- Multi-Flavour Shard (Energy Band: ER_1_PEV_100_PEV, Part: 1, Shard: 13) -------------\n",
      "------------- Multi-Flavour Shard (Energy Band: ER_1_PEV_100_PEV, Part: 1, Shard: 14) -------------\n",
      "------------- Multi-Flavour Shard (Energy Band: ER_1_PEV_100_PEV, Part: 1, Shard: 15) -------------\n",
      "------------- Multi-Flavour Shard (Energy Band: ER_1_PEV_100_PEV, Part: 1, Shard: 1) -------------\n",
      "------------- Multi-Flavour Shard (Energy Band: ER_1_PEV_100_PEV, Part: 1, Shard: 2) -------------\n",
      "------------- Multi-Flavour Shard (Energy Band: ER_1_PEV_100_PEV, Part: 1, Shard: 3) -------------\n",
      "------------- Multi-Flavour Shard (Energy Band: ER_1_PEV_100_PEV, Part: 1, Shard: 4) -------------\n",
      "------------- Multi-Flavour Shard (Energy Band: ER_1_PEV_100_PEV, Part: 1, Shard: 5) -------------\n",
      "------------- Multi-Flavour Shard (Energy Band: ER_1_PEV_100_PEV, Part: 1, Shard: 6) -------------\n",
      "------------- Multi-Flavour Shard (Energy Band: ER_1_PEV_100_PEV, Part: 1, Shard: 7) -------------\n",
      "------------- Multi-Flavour Shard (Energy Band: ER_1_PEV_100_PEV, Part: 1, Shard: 8) -------------\n",
      "------------- Multi-Flavour Shard (Energy Band: ER_1_PEV_100_PEV, Part: 1, Shard: 9) -------------\n",
      "------------- Multi-Flavour Shard (Energy Band: ER_1_PEV_100_PEV, Part: 1, Shard: 10) -------------\n",
      "------------- Multi-Flavour Shard (Energy Band: ER_1_PEV_100_PEV, Part: 1, Shard: 11) -------------\n",
      "------------- Multi-Flavour Shard (Energy Band: ER_1_PEV_100_PEV, Part: 1, Shard: 12) -------------\n",
      "------------- Multi-Flavour Shard (Energy Band: ER_1_PEV_100_PEV, Part: 1, Shard: 13) -------------\n",
      "------------- Multi-Flavour Shard (Energy Band: ER_1_PEV_100_PEV, Part: 1, Shard: 14) -------------\n",
      "------------- Multi-Flavour Shard (Energy Band: ER_1_PEV_100_PEV, Part: 1, Shard: 15) -------------\n",
      "------------- Multi-Flavour Shard (Energy Band: ER_1_PEV_100_PEV, Part: 1, Shard: 1) -------------\n",
      "------------- Multi-Flavour Shard (Energy Band: ER_1_PEV_100_PEV, Part: 1, Shard: 2) -------------\n",
      "------------- Multi-Flavour Shard (Energy Band: ER_1_PEV_100_PEV, Part: 1, Shard: 3) -------------\n",
      "------------- Multi-Flavour Shard (Energy Band: ER_1_PEV_100_PEV, Part: 1, Shard: 4) -------------\n",
      "------------- Multi-Flavour Shard (Energy Band: ER_1_PEV_100_PEV, Part: 1, Shard: 5) -------------\n",
      "------------- Multi-Flavour Shard (Energy Band: ER_1_PEV_100_PEV, Part: 1, Shard: 6) -------------\n",
      "------------- Multi-Flavour Shard (Energy Band: ER_1_PEV_100_PEV, Part: 1, Shard: 7) -------------\n",
      "------------- Multi-Flavour Shard (Energy Band: ER_1_PEV_100_PEV, Part: 1, Shard: 8) -------------\n",
      "------------- Multi-Flavour Shard (Energy Band: ER_1_PEV_100_PEV, Part: 1, Shard: 9) -------------\n",
      "------------- Multi-Flavour Shard (Energy Band: ER_1_PEV_100_PEV, Part: 1, Shard: 10) -------------\n",
      "------------- Multi-Flavour Shard (Energy Band: ER_1_PEV_100_PEV, Part: 1, Shard: 11) -------------\n",
      "------------- Multi-Flavour Shard (Energy Band: ER_1_PEV_100_PEV, Part: 1, Shard: 12) -------------\n",
      "------------- Multi-Flavour Shard (Energy Band: ER_1_PEV_100_PEV, Part: 1, Shard: 13) -------------\n",
      "------------- Multi-Flavour Shard (Energy Band: ER_1_PEV_100_PEV, Part: 1, Shard: 14) -------------\n",
      "------------- Multi-Flavour Shard (Energy Band: ER_1_PEV_100_PEV, Part: 1, Shard: 15) -------------\n",
      "------------- Statistics (subdirectory 22018, part 1, shard 16) -------------\n",
      "Total 2000 events from shard 16\n",
      "------------- Statistics (subdirectory 22018, part 1, shard 17) -------------\n",
      "Total 2000 events from shard 17\n",
      "------------- Statistics (subdirectory 22018, part 1, shard 18) -------------\n",
      "Total 502 events from shard 18\n"
     ]
    }
   ],
   "source": [
    "ds_PeV_1 = DatasetMultiFlavourPart(\n",
    "    root_dir=root_dir,\n",
    "    energy_band=EnergyRange.ER_1_PEV_100_PEV,\n",
    "    part=1,\n",
    "    max_n_doms=maxNDOMFinder_PeV_1(),\n",
    "    verbosity=1,\n",
    "    )\n",
    "# 45 sec"
   ]
  },
  {
   "cell_type": "code",
   "execution_count": null,
   "metadata": {},
   "outputs": [
    {
     "name": "stdout",
     "output_type": "stream",
     "text": [
      "CPU times: user 41min 6s, sys: 255 ms, total: 41min 7s\n",
      "Wall time: 1min 17s\n"
     ]
    },
    {
     "data": {
      "text/plain": [
       "'\\n<<28.01.2025, FEND05>>\\nCPU times: user 1h 7min 28s, sys: 53.8 s, total: 1h 8min 22s\\nWall time: 5min 34ssummary_\\n'"
      ]
     },
     "execution_count": 21,
     "metadata": {},
     "output_type": "execute_result"
    }
   ],
   "source": [
    "%%time\n",
    "for _ in ds_PeV_1:\n",
    "    pass\n",
    "\"\"\"\n",
    "<<28.01.2025, FEND05>>\n",
    "CPU times: user 1h 7min 28s, sys: 53.8 s, total: 1h 8min 22s\n",
    "Wall time: 5min 34s\n",
    "\"\"\"\n",
    "\n",
    "\"\"\"<<30.01.2025, hep04>>\n",
    "CPU times: user 41min 6s, sys: 255 ms, total: 41min 7s\n",
    "Wall time: 1min 17s = 77 s\n",
    "\"\"\""
   ]
  },
  {
   "cell_type": "code",
   "execution_count": 17,
   "metadata": {},
   "outputs": [
    {
     "data": {
      "text/plain": [
       "267434"
      ]
     },
     "execution_count": 17,
     "metadata": {},
     "output_type": "execute_result"
    }
   ],
   "source": [
    "len(ds_PeV_1)"
   ]
  },
  {
   "cell_type": "code",
   "execution_count": 24,
   "metadata": {},
   "outputs": [
    {
     "name": "stdout",
     "output_type": "stream",
     "text": [
      "3473.1688311688313 800.7005988023952\n"
     ]
    }
   ],
   "source": [
    "print(267434/77, 267434/334)"
   ]
  },
  {
   "cell_type": "markdown",
   "metadata": {},
   "source": [
    "# 4. Data loaders"
   ]
  },
  {
   "cell_type": "code",
   "execution_count": 19,
   "metadata": {},
   "outputs": [],
   "source": [
    "dm_PeV_1_1 = PMTfiedDataModule(\n",
    "    root_dir=root_dir,\n",
    "    energy_band=EnergyRange.ER_1_PEV_100_PEV,\n",
    "    dataset = ds_PeV_1_1,\n",
    "    batch_size=64,\n",
    "    num_workers=4,\n",
    "    verbosity=1,\n",
    "    )"
   ]
  },
  {
   "cell_type": "code",
   "execution_count": null,
   "metadata": {},
   "outputs": [],
   "source": []
  }
 ],
 "metadata": {
  "kernelspec": {
   "display_name": "Python 3",
   "language": "python",
   "name": "python3"
  },
  "language_info": {
   "codemirror_mode": {
    "name": "ipython",
    "version": 3
   },
   "file_extension": ".py",
   "mimetype": "text/x-python",
   "name": "python",
   "nbconvert_exporter": "python",
   "pygments_lexer": "ipython3",
   "version": "3.9.18"
  }
 },
 "nbformat": 4,
 "nbformat_minor": 2
}
