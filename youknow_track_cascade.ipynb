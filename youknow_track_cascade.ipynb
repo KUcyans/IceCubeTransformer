{
 "cells": [
  {
   "cell_type": "code",
   "execution_count": 23,
   "id": "ef4ba94b",
   "metadata": {},
   "outputs": [],
   "source": [
    "import pandas as pd\n",
    "import sys\n",
    "import os\n",
    "import matplotlib.pyplot as plt\n",
    "import numpy as np\n",
    "import ast\n",
    "from typing import List, Tuple\n",
    "\n",
    "from collections import defaultdict\n",
    "from typing import List                                                                                                         \n",
    "from tqdm import tqdm\n",
    "\n",
    "# 30 sec"
   ]
  },
  {
   "cell_type": "code",
   "execution_count": 24,
   "id": "59d36dcf",
   "metadata": {},
   "outputs": [],
   "source": [
    "from Enum.EnergyRange import EnergyRange\n",
    "from Enum.Flavour import Flavour"
   ]
  },
  {
   "cell_type": "code",
   "execution_count": 25,
   "id": "7e9e616a",
   "metadata": {},
   "outputs": [],
   "source": [
    "sys.path.append('/groups/icecube/cyan/Utils')\n",
    "from PlotUtils import setMplParam, getColour, getHistoParam \n",
    "# getHistoParam:\n",
    "# Nbins, binwidth, bins, counts, bin_centers  = \n",
    "from DB_lister import list_content, list_tables\n",
    "from ExternalFunctions import nice_string_output, add_text_to_ax\n",
    "setMplParam()"
   ]
  },
  {
   "cell_type": "code",
   "execution_count": 26,
   "id": "80b1b5ca",
   "metadata": {},
   "outputs": [],
   "source": [
    "csvs_medium_mu_vs_e = {\n",
    "    r\"Track vs. Cascade, E$\\in$(10TeV,1PeV), train(250m), val(250m)\": \"/lustre/hpc/icecube/cyan/factory/IceCubeTransformer/predictions/20250410/model_20250330_203131/112439/predictions_epoch_012_val_loss_0.0984.csv\"\n",
    "}"
   ]
  },
  {
   "cell_type": "code",
   "execution_count": 30,
   "id": "02880b39",
   "metadata": {},
   "outputs": [],
   "source": [
    "def get_track_cascade_logits(df: pd.DataFrame) -> np.ndarray:\n",
    "    def safe_parse(x):\n",
    "        return ast.literal_eval(x) if isinstance(x, str) else x\n",
    "    \n",
    "    df[\"logits\"] = df[\"logits\"].apply(safe_parse)\n",
    "    return df[\"logits\"].apply(lambda x: x[0]).to_numpy()"
   ]
  },
  {
   "cell_type": "code",
   "execution_count": 43,
   "id": "168ac618",
   "metadata": {},
   "outputs": [],
   "source": [
    "def plot_csvs(csvs:dict, is_magnifier_on:bool):\n",
    "    for id, csv in csvs.items():\n",
    "        df = pd.read_csv(csv)\n",
    "        print(df[['target_class','pred_class','target_one_hot_pid','logits']].head())\n",
    "        # print(get_track_cascade_logits(df))   "
   ]
  },
  {
   "cell_type": "code",
   "execution_count": 44,
   "id": "0008e4fd",
   "metadata": {},
   "outputs": [
    {
     "name": "stdout",
     "output_type": "stream",
     "text": [
      "   target_class  pred_class target_one_hot_pid  \\\n",
      "0             1           1             [0, 1]   \n",
      "1             1           0             [0, 1]   \n",
      "2             1           1             [0, 1]   \n",
      "3             1           1             [0, 1]   \n",
      "4             1           1             [0, 1]   \n",
      "\n",
      "                                      logits  \n",
      "0   [0.0325930193066597, 0.9659360647201538]  \n",
      "1    [0.962875485420227, 0.0307389497756958]  \n",
      "2   [0.08216621726751328, 0.917912483215332]  \n",
      "3  [0.06982182711362839, 0.9284912347793579]  \n",
      "4  [0.03694513440132141, 0.9634585976600647]  \n"
     ]
    }
   ],
   "source": [
    "plot_csvs(csvs_medium_mu_vs_e, False)"
   ]
  },
  {
   "cell_type": "code",
   "execution_count": null,
   "id": "158d3c4e",
   "metadata": {},
   "outputs": [],
   "source": []
  }
 ],
 "metadata": {
  "kernelspec": {
   "display_name": "Python 3",
   "language": "python",
   "name": "python3"
  },
  "language_info": {
   "codemirror_mode": {
    "name": "ipython",
    "version": 3
   },
   "file_extension": ".py",
   "mimetype": "text/x-python",
   "name": "python",
   "nbconvert_exporter": "python",
   "pygments_lexer": "ipython3",
   "version": "3.9.18"
  }
 },
 "nbformat": 4,
 "nbformat_minor": 5
}
